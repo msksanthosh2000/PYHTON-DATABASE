{
 "cells": [
  {
   "cell_type": "markdown",
   "metadata": {},
   "source": [
    "## SQL CONNECTION "
   ]
  },
  {
   "cell_type": "code",
   "execution_count": 3,
   "metadata": {},
   "outputs": [
    {
     "name": "stdout",
     "output_type": "stream",
     "text": [
      "Database Connected\n"
     ]
    }
   ],
   "source": [
    "import mysql.connector\n",
    "\n",
    "db = mysql.connector.connect(\n",
    "    host=\"127.0.0.1\",\n",
    "    user=\"root\",\n",
    "    password=\"8667444291\"\n",
    ")\n",
    "\n",
    "if db.is_connected():\n",
    "    print(\"Database Connected\")"
   ]
  },
  {
   "cell_type": "markdown",
   "metadata": {},
   "source": [
    "# DATABASE CREATION"
   ]
  },
  {
   "cell_type": "code",
   "execution_count": 4,
   "metadata": {},
   "outputs": [
    {
     "name": "stdout",
     "output_type": "stream",
     "text": [
      "Database Created Successful !!!\n"
     ]
    }
   ],
   "source": [
    "import mysql.connector\n",
    "\n",
    "db = mysql.connector.connect(\n",
    "    host=\"127.0.0.1\",\n",
    "    user=\"root\",\n",
    "    password=\"8667444291\"\n",
    ")\n",
    "\n",
    "cursor = db.cursor()\n",
    "cursor.execute(\"CREATE DATABASE Company_db\")\n",
    "\n",
    "print(\"Database Created Successful !!!\")"
   ]
  },
  {
   "cell_type": "markdown",
   "metadata": {},
   "source": [
    "## TABLE CREATION"
   ]
  },
  {
   "cell_type": "code",
   "execution_count": 8,
   "metadata": {},
   "outputs": [
    {
     "name": "stdout",
     "output_type": "stream",
     "text": [
      "Table Created Successful !!!\n"
     ]
    }
   ],
   "source": [
    "import mysql.connector\n",
    "\n",
    "db = mysql.connector.connect(\n",
    "    host=\"127.0.0.1\",\n",
    "    user=\"root\",\n",
    "    password=\"8667444291\",\n",
    "    database=\"Company_db\",\n",
    ")\n",
    "\n",
    "cursor = db.cursor()\n",
    "sql = \"\"\"CREATE TABLE emp (\n",
    "  emp_id INT AUTO_INCREMENT PRIMARY KEY,\n",
    "  emp_name VARCHAR(255),\n",
    "  email Varchar(255),\n",
    "  number int,\n",
    "  position Varchar(255),\n",
    "  salary int,\n",
    "  dept varchar(255)\n",
    ")\n",
    "\"\"\"\n",
    "cursor.execute(sql)\n",
    "\n",
    "print(\"Table Created Successful !!!\")"
   ]
  },
  {
   "cell_type": "markdown",
   "metadata": {},
   "source": [
    "## INSERTING ROW"
   ]
  },
  {
   "cell_type": "code",
   "execution_count": 11,
   "metadata": {},
   "outputs": [
    {
     "name": "stdout",
     "output_type": "stream",
     "text": [
      "1 data added\n"
     ]
    }
   ],
   "source": [
    "import mysql.connector\n",
    "\n",
    "db = mysql.connector.connect(\n",
    "    host=\"127.0.0.1\",\n",
    "    user=\"root\",\n",
    "    password=\"8667444291\",\n",
    "    database=\"Company_db\",\n",
    ")\n",
    "\n",
    "cursor = db.cursor()\n",
    "sql = \"INSERT INTO emp (emp_name, email,number,position,salary,dept) VALUES (%s, %s, %s, %s, %s, %s)\"\n",
    "val = (\"Harry\", \"harry@gmail.com\",\"876543210\",\"Developer\",\"40000\",\"IT\")\n",
    "cursor.execute(sql, val)\n",
    "\n",
    "db.commit()\n",
    "\n",
    "print(\"{} data added\".format(cursor.rowcount))"
   ]
  },
  {
   "cell_type": "markdown",
   "metadata": {},
   "source": [
    "## INSERT MORE ROWS"
   ]
  },
  {
   "cell_type": "code",
   "execution_count": 12,
   "metadata": {},
   "outputs": [
    {
     "name": "stdout",
     "output_type": "stream",
     "text": [
      "1 data added\n"
     ]
    }
   ],
   "source": [
    "import mysql.connector\n",
    "\n",
    "db = mysql.connector.connect(\n",
    "    host=\"127.0.0.1\",\n",
    "    user=\"root\",\n",
    "    password=\"8667444291\",\n",
    "    database=\"Company_db\",\n",
    ")\n",
    "\n",
    "cursor = db.cursor()\n",
    "sql = \"INSERT INTO emp (emp_name, email,number,position,salary,dept) VALUES (%s, %s, %s, %s, %s, %s)\"\n",
    "values = [\n",
    "  (\"Harry\", \"harry@gmail.com\",\"876543210\",\"Developer\",\"40000\",\"IT\"),\n",
    "  (\"Kane\", \"kane@gmail.com\",\"876000000\",\"Testing\",\"30000\",\"IT\"),\n",
    "  (\"Linda\", \"linda@gmail.com\",\"756473839\",\"Manager\",\"50000\",\"HR\")\n",
    "]\n",
    "\n",
    "for val in values:\n",
    "  cursor.execute(sql, val)\n",
    "\n",
    "db.commit()\n",
    "\n",
    "print(\"{} data added\".format(cursor.rowcount))"
   ]
  },
  {
   "cell_type": "markdown",
   "metadata": {},
   "source": [
    "## FETCH FIRST ROW"
   ]
  },
  {
   "cell_type": "code",
   "execution_count": 14,
   "metadata": {},
   "outputs": [
    {
     "name": "stdout",
     "output_type": "stream",
     "text": [
      "(1, 'Harry', 'harry@gmail.com', 876543210, 'Developer', 40000, 'IT')\n"
     ]
    }
   ],
   "source": [
    "import mysql.connector\n",
    "\n",
    "db = mysql.connector.connect(\n",
    "    host=\"127.0.0.1\",\n",
    "    user=\"root\",\n",
    "    password=\"8667444291\",\n",
    "    database=\"company_db\",\n",
    ")\n",
    "\n",
    "cursor = db.cursor()\n",
    "sql = \"SELECT * FROM emp\"\n",
    "cursor.execute(sql)\n",
    "\n",
    "result = cursor.fetchone()\n",
    "\n",
    "print(result)"
   ]
  },
  {
   "cell_type": "markdown",
   "metadata": {},
   "source": [
    "## SHOW ALL ROWS"
   ]
  },
  {
   "cell_type": "code",
   "execution_count": 21,
   "metadata": {},
   "outputs": [
    {
     "name": "stdout",
     "output_type": "stream",
     "text": [
      "(1, 'Harry', 'harry@gmail.com', 876543210, 'Developer', 40000, 'IT')\n",
      "(3, 'Kane', 'kane@gmail.com', 876000000, 'Developer', 45000, 'IT')\n",
      "(4, 'Linda', 'linda@gmail.com', 756473839, 'Manager', 50000, 'HR')\n"
     ]
    }
   ],
   "source": [
    "import mysql.connector\n",
    "\n",
    "db = mysql.connector.connect(\n",
    "    host=\"127.0.0.1\",\n",
    "    user=\"root\",\n",
    "    password=\"8667444291\",\n",
    "    database=\"company_db\",\n",
    ")\n",
    "\n",
    "cursor = db.cursor()\n",
    "sql = \"SELECT * FROM emp\"\n",
    "cursor.execute(sql)\n",
    "\n",
    "results = cursor.fetchall()\n",
    "\n",
    "for data in results:\n",
    "  print(data)"
   ]
  },
  {
   "cell_type": "markdown",
   "metadata": {},
   "source": [
    "## DELETE"
   ]
  },
  {
   "cell_type": "code",
   "execution_count": 17,
   "metadata": {},
   "outputs": [
    {
     "name": "stdout",
     "output_type": "stream",
     "text": [
      "1 data deleted\n"
     ]
    }
   ],
   "source": [
    "import mysql.connector\n",
    "\n",
    "db = mysql.connector.connect(\n",
    "    host=\"127.0.0.1\",\n",
    "    user=\"root\",\n",
    "    password=\"8667444291\",\n",
    "    database=\"company_db\",\n",
    ")\n",
    "\n",
    "cursor = db.cursor()\n",
    "sql = \"DELETE FROM emp WHERE emp_id=%s\"\n",
    "\n",
    "num=cursor.rowcount\n",
    "val = (2, )\n",
    "cursor.execute(sql, val)\n",
    "\n",
    "db.commit()\n",
    "\n",
    "print(\"{} data deleted\".format(cursor.rowcount))"
   ]
  },
  {
   "cell_type": "markdown",
   "metadata": {},
   "source": [
    "## UPDATE"
   ]
  },
  {
   "cell_type": "code",
   "execution_count": 20,
   "metadata": {},
   "outputs": [
    {
     "name": "stdout",
     "output_type": "stream",
     "text": [
      "1 data changed\n"
     ]
    }
   ],
   "source": [
    "import mysql.connector\n",
    "\n",
    "db = mysql.connector.connect(\n",
    "    host=\"127.0.0.1\",\n",
    "    user=\"root\",\n",
    "    password=\"8667444291\",\n",
    "    database=\"Company_db\",\n",
    ")\n",
    "\n",
    "cursor = db.cursor()\n",
    "sql = \"UPDATE emp SET position=%s, salary=%s WHERE emp_id=%s\"\n",
    "val = (\"Developer\", \"45000\", 3)\n",
    "cursor.execute(sql, val)\n",
    "\n",
    "db.commit()\n",
    "\n",
    "print(\"{} data changed\".format(cursor.rowcount))"
   ]
  },
  {
   "cell_type": "markdown",
   "metadata": {},
   "source": [
    "## CRUD OPERATION"
   ]
  },
  {
   "cell_type": "code",
   "execution_count": null,
   "metadata": {},
   "outputs": [
    {
     "name": "stdout",
     "output_type": "stream",
     "text": [
      "============================ EMPLOYEE DATABASE PYTHON ====================================\n",
      "1. Insert Data\n",
      "2. Show Data\n",
      "3. Update Data\n",
      "4. Delete Data\n",
      "5. Search Data\n",
      "0. GO Out\n",
      "------------------\n",
      "Choose menu> 1\n",
      "Enter Name: Ronaldo\n",
      "Enter G-mail Address: cr7@yahoo.com\n",
      "Enter Phone No: 987654321\n",
      "Enter Position of EMP: Manager\n",
      "Enter Salary of EMP: 60000\n",
      "Enter Department of EMPHR\n",
      "1 data Inserted\n",
      "============================ EMPLOYEE DATABASE PYTHON ====================================\n",
      "1. Insert Data\n",
      "2. Show Data\n",
      "3. Update Data\n",
      "4. Delete Data\n",
      "5. Search Data\n",
      "0. GO Out\n",
      "------------------\n",
      "Choose menu> 2\n",
      "(1, 'Ronaldo', 'cr7@yahoo.com', 987654321, 'Manager', 60000, 'HR')\n",
      "============================ EMPLOYEE DATABASE PYTHON ====================================\n",
      "1. Insert Data\n",
      "2. Show Data\n",
      "3. Update Data\n",
      "4. Delete Data\n",
      "5. Search Data\n",
      "0. GO Out\n",
      "------------------\n",
      "Choose menu> 3\n",
      "(1, 'Ronaldo', 'cr7@yahoo.com', 987654321, 'Manager', 60000, 'HR')\n",
      "Choose id of Employee : 1\n",
      "Enter Name: Ronaldo\n",
      "Enter G-mail Address: cr7@yahoo.com\n",
      "Enter Phone No: 987654321\n",
      "Enter Position of EMP: SALES\n",
      "Enter Salary of EMP: 50000\n",
      "Enter Department of EMPFINANCE\n",
      "1 data successfully changed\n",
      "============================ EMPLOYEE DATABASE PYTHON ====================================\n",
      "1. Insert Data\n",
      "2. Show Data\n",
      "3. Update Data\n",
      "4. Delete Data\n",
      "5. Search Data\n",
      "0. GO Out\n",
      "------------------\n",
      "Choose menu> 2\n",
      "(1, 'Ronaldo', 'cr7@yahoo.com', 987654321, 'SALES', 50000, 'FINANCE')\n",
      "============================ EMPLOYEE DATABASE PYTHON ====================================\n",
      "1. Insert Data\n",
      "2. Show Data\n",
      "3. Update Data\n",
      "4. Delete Data\n",
      "5. Search Data\n",
      "0. GO Out\n",
      "------------------\n"
     ]
    }
   ],
   "source": [
    "import mysql.connector\n",
    "import os\n",
    "\n",
    "db = mysql.connector.connect(\n",
    "    host=\"127.0.0.1\",\n",
    "    user=\"root\",\n",
    "    password=\"8667444291\",\n",
    "    database=\"emp_data\",\n",
    ")\n",
    "\n",
    "\n",
    "def insert_data(db):\n",
    "  emp_name = input(\"Enter Name: \")\n",
    "  email = input(\"Enter G-mail Address: \")\n",
    "  number= input(\"Enter Phone No: \")\n",
    "  position =input(\"Enter Position of EMP: \")\n",
    "  salary = input(\"Enter Salary of EMP: \")\n",
    "  dept = input(\"Enter Department of EMP\")\n",
    "  val = (emp_name, email,number,position,salary,dept)\n",
    "  cursor = db.cursor()\n",
    "  sql = \"INSERT INTO emp (emp_name, email,number,position,salary,dept) VALUES (%s, %s,%s, %s,%s, %s)\"\n",
    "  cursor.execute(sql, val)\n",
    "  db.commit()\n",
    "  print(\"{} data Inserted\".format(cursor.rowcount))\n",
    "\n",
    "\n",
    "def show_data(db):\n",
    "  cursor = db.cursor()\n",
    "  sql = \"SELECT * FROM emp\"\n",
    "  cursor.execute(sql)\n",
    "  results = cursor.fetchall()\n",
    "  \n",
    "  if cursor.rowcount < 0:\n",
    "    print(\"There is not any data\")\n",
    "  else:\n",
    "    for data in results:\n",
    "      print(data)\n",
    "\n",
    "\n",
    "def update_data(db):\n",
    "  cursor = db.cursor()\n",
    "  show_data(db)\n",
    "  emp_id = input(\"Choose id of Employee : \")\n",
    "  emp_name = input(\"Enter Name: \")\n",
    "  email = input(\"Enter G-mail Address: \")\n",
    "  number= input(\"Enter Phone No: \")\n",
    "  position =input(\"Enter Position of EMP: \")\n",
    "  salary = input(\"Enter Salary of EMP: \")\n",
    "  dept = input(\"Enter Department of EMP\")\n",
    "  \n",
    "\n",
    "  sql = \"UPDATE emp SET emp_name=%s, email=%s, number=%s,position=%s,salary=%s,dept=%s WHERE emp_id=%s\"\n",
    "  val = (emp_name, email,number,position,salary,dept, emp_id)\n",
    "  cursor.execute(sql, val)\n",
    "  db.commit()\n",
    "  print(\"{} data successfully changed\".format(cursor.rowcount))\n",
    "\n",
    "\n",
    "def delete_data(db):\n",
    "  cursor = db.cursor()\n",
    "  show_data(db)\n",
    "  emp_id = input(\"Choose id Employee : \")\n",
    "  sql = \"DELETE FROM emp WHERE emp_id=%s\"\n",
    "  val = (emp_id,)\n",
    "  cursor.execute(sql, val)\n",
    "  db.commit()\n",
    "  print(\"{} data successfully deleted\".format(cursor.rowcount))\n",
    "\n",
    "\n",
    "def search_data(db):\n",
    "  cursor = db.cursor()\n",
    "  keyword = input(\"Keyword: \")\n",
    "  sql = \"SELECT * FROM emp WHERE emp_name LIKE %s OR email LIKE %s\"\n",
    "  val = (\"%{}%\".format(keyword), \"%{}%\".format(keyword))\n",
    "  cursor.execute(sql, val)\n",
    "  results = cursor.fetchall()\n",
    "  \n",
    "  if cursor.rowcount < 0:\n",
    "    print(\"There is not any data\")\n",
    "  else:\n",
    "    for data in results:\n",
    "      print(data)\n",
    "\n",
    "\n",
    "def show_menu(db):\n",
    "  print(\"-------------------------------- EMPLOYEE DATABASE PYTHON ------------------------------------------\")\n",
    "  print(\"1. Insert Data\")\n",
    "  print(\"2. Show Data\")\n",
    "  print(\"3. Update Data\")\n",
    "  print(\"4. Delete Data\")\n",
    "  print(\"5. Search Data\")\n",
    "  print(\"0. GO Out\")\n",
    "  print(\"----------------------------------------------------------------------------------------------------\")\n",
    "  menu = input(\"Choose menu> \")\n",
    "\n",
    "  #clear screen\n",
    "  os.system(\"clear\")\n",
    "\n",
    "  if menu == \"1\":\n",
    "    insert_data(db)\n",
    "  elif menu == \"2\":\n",
    "    show_data(db)\n",
    "  elif menu == \"3\":\n",
    "    update_data(db)\n",
    "  elif menu == \"4\":\n",
    "    delete_data(db)\n",
    "  elif menu == \"5\":\n",
    "    search_data(db)\n",
    "  elif menu == \"0\":\n",
    "    exit()\n",
    "  else:\n",
    "    print(\"Menu WRONG!\")\n",
    "\n",
    "\n",
    "if __name__ == \"__main__\":\n",
    "  while(True):\n",
    "    show_menu(db)"
   ]
  },
  {
   "cell_type": "code",
   "execution_count": null,
   "metadata": {},
   "outputs": [],
   "source": []
  }
 ],
 "metadata": {
  "kernelspec": {
   "display_name": "Python 3",
   "language": "python",
   "name": "python3"
  },
  "language_info": {
   "codemirror_mode": {
    "name": "ipython",
    "version": 3
   },
   "file_extension": ".py",
   "mimetype": "text/x-python",
   "name": "python",
   "nbconvert_exporter": "python",
   "pygments_lexer": "ipython3",
   "version": "3.8.5"
  }
 },
 "nbformat": 4,
 "nbformat_minor": 4
}
